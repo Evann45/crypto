{
 "cells": [
  {
   "cell_type": "markdown",
   "metadata": {},
   "source": [
    "# Sae Cryptographie \n",
    "\n",
    "## Partie 1"
   ]
  },
  {
   "cell_type": "markdown",
   "metadata": {},
   "source": [
    "Extention du Code SDES "
   ]
  },
  {
   "cell_type": "code",
   "execution_count": 1,
   "metadata": {},
   "outputs": [
    {
     "name": "stdout",
     "output_type": "stream",
     "text": [
      "Elapsed time for 1,000 encryptions: 0.030s\n"
     ]
    }
   ],
   "source": [
    "from sys import exit\n",
    "from time import time\n",
    " \n",
    "KeyLength = 10\n",
    "SubKeyLength = 8\n",
    "DataLength = 8\n",
    "FLength = 4\n",
    " \n",
    "# Tables for initial and final permutations (b1, b2, b3, ... b8)\n",
    "IPtable = (2, 6, 3, 1, 4, 8, 5, 7)\n",
    "FPtable = (4, 1, 3, 5, 7, 2, 8, 6)\n",
    " \n",
    "# Tables for subkey generation (k1, k2, k3, ... k10)\n",
    "P10table = (3, 5, 2, 7, 4, 10, 1, 9, 8, 6)\n",
    "P8table = (6, 3, 7, 4, 8, 5, 10, 9)\n",
    " \n",
    "# Tables for the fk function\n",
    "EPtable = (4, 1, 2, 3, 2, 3, 4, 1)\n",
    "S0table = (1, 0, 3, 2, 3, 2, 1, 0, 0, 2, 1, 3, 3, 1, 3, 2)\n",
    "S1table = (0, 1, 2, 3, 2, 0, 1, 3, 3, 0, 1, 0, 2, 1, 0, 3)\n",
    "P4table = (2, 4, 3, 1)\n",
    " \n",
    "def perm(inputByte, permTable):\n",
    "    \"\"\"Permute input byte according to permutation table\"\"\"\n",
    "    outputByte = 0\n",
    "    for index, elem in enumerate(permTable):\n",
    "        if index >= elem:\n",
    "            outputByte |= (inputByte & (128 >> (elem - 1))) >> (index - (elem - 1))\n",
    "        else:\n",
    "            outputByte |= (inputByte & (128 >> (elem - 1))) << ((elem - 1) - index)\n",
    "    return outputByte\n",
    " \n",
    "def ip(inputByte):\n",
    "    \"\"\"Perform the initial permutation on data\"\"\"\n",
    "    return perm(inputByte, IPtable)\n",
    " \n",
    "def fp(inputByte):\n",
    "    \"\"\"Perform the final permutation on data\"\"\"\n",
    "    return perm(inputByte, FPtable)\n",
    " \n",
    "def swapNibbles(inputByte):\n",
    "    \"\"\"Swap the two nibbles of data\"\"\"\n",
    "    return (inputByte << 4 | inputByte >> 4) & 0xff\n",
    " \n",
    "def keyGen(key):\n",
    "    \"\"\"Generate the two required subkeys\"\"\"\n",
    "    def leftShift(keyBitList):\n",
    "        \"\"\"Perform a circular left shift on the first and second five bits\"\"\"\n",
    "        shiftedKey = [None] * KeyLength\n",
    "        shiftedKey[0:9] = keyBitList[1:10]\n",
    "        shiftedKey[4] = keyBitList[0]\n",
    "        shiftedKey[9] = keyBitList[5]\n",
    "        return shiftedKey\n",
    " \n",
    "    # Converts input key (integer) into a list of binary digits\n",
    "    keyList = [(key & 1 << i) >> i for i in reversed(range(KeyLength))]\n",
    "    permKeyList = [None] * KeyLength\n",
    "    for index, elem in enumerate(P10table):\n",
    "        permKeyList[index] = keyList[elem - 1]\n",
    "    shiftedOnceKey = leftShift(permKeyList)\n",
    "    shiftedTwiceKey = leftShift(leftShift(shiftedOnceKey))\n",
    "    subKey1 = subKey2 = 0\n",
    "    for index, elem in enumerate(P8table):\n",
    "        subKey1 += (128 >> index) * shiftedOnceKey[elem - 1]\n",
    "        subKey2 += (128 >> index) * shiftedTwiceKey[elem - 1]\n",
    "    return (subKey1, subKey2)\n",
    " \n",
    "def fk(subKey, inputData):\n",
    "    \"\"\"Apply Feistel function on data with given subkey\"\"\"\n",
    "    def F(sKey, rightNibble):\n",
    "        aux = sKey ^ perm(swapNibbles(rightNibble), EPtable)\n",
    "        index1 = ((aux & 0x80) >> 4) + ((aux & 0x40) >> 5) + \\\n",
    "                 ((aux & 0x20) >> 5) + ((aux & 0x10) >> 2)\n",
    "        index2 = ((aux & 0x08) >> 0) + ((aux & 0x04) >> 1) + \\\n",
    "                 ((aux & 0x02) >> 1) + ((aux & 0x01) << 2)\n",
    "        sboxOutputs = swapNibbles((S0table[index1] << 2) + S1table[index2])\n",
    "        return perm(sboxOutputs, P4table)\n",
    " \n",
    "    leftNibble, rightNibble = inputData & 0xf0, inputData & 0x0f\n",
    "    return (leftNibble ^ F(subKey, rightNibble)) | rightNibble\n",
    " \n",
    "def encrypt(key, plaintext):\n",
    "    \"\"\"Encrypt plaintext with given key\"\"\"\n",
    "    data = fk(keyGen(key)[0], ip(plaintext))\n",
    "    return fp(fk(keyGen(key)[1], swapNibbles(data)))\n",
    " \n",
    "def decrypt(key, ciphertext):\n",
    "    \"\"\"Decrypt ciphertext with given key\"\"\"\n",
    "    data = fk(keyGen(key)[1], ip(ciphertext))\n",
    "    return fp(fk(keyGen(key)[0], swapNibbles(data)))  \n",
    " \n",
    "if __name__ == '__main__':\n",
    "    # Test vectors described in \"Simplified DES (SDES)\"\n",
    "    # (http://www2.kinneret.ac.il/mjmay/ise328/328-Assignment1-SDES.pdf)\n",
    " \n",
    "    try:\n",
    "        assert encrypt(0b0000000000, 0b10101010) == 0b00010001\n",
    "    except AssertionError:\n",
    "        print(\"Error on encrypt:\")\n",
    "        print(\"Output: \", encrypt(0b0000000000, 0b10101010), \"Expected: \", 0b00010001)\n",
    "        exit(1)\n",
    "    try:\n",
    "        assert encrypt(0b1110001110, 0b10101010) == 0b11001010\n",
    "    except AssertionError:\n",
    "        print(\"Error on encrypt:\")\n",
    "        print(\"Output: \", encrypt(0b1110001110, 0b10101010), \"Expected: \", 0b11001010)\n",
    "        exit(1)\n",
    "    try:\n",
    "        assert encrypt(0b1110001110, 0b01010101) == 0b01110000\n",
    "    except AssertionError:\n",
    "        print(\"Error on encrypt:\")\n",
    "        print(\"Output: \", encrypt(0b1110001110, 0b01010101), \"Expected: \", 0b01110000)\n",
    "        exit(1)\n",
    "    try:\n",
    "        assert encrypt(0b1111111111, 0b10101010) == 0b00000100\n",
    "    except AssertionError:\n",
    "        print(\"Error on encrypt:\")\n",
    "        print(\"Output: \", encrypt(0b1111111111, 0b10101010), \"Expected: \", 0b00000100)\n",
    "        exit(1)\n",
    " \n",
    "    t1 = time()\n",
    "    for i in range(1000):\n",
    "        encrypt(0b1110001110, 0b10101010)\n",
    "    t2 = time()\n",
    "    print(\"Elapsed time for 1,000 encryptions: {:0.3f}s\".format(t2 - t1))"
   ]
  },
  {
   "cell_type": "markdown",
   "metadata": {},
   "source": [
    "Extention du protocole double SDES"
   ]
  },
  {
   "cell_type": "code",
   "execution_count": 2,
   "metadata": {},
   "outputs": [
    {
     "name": "stdout",
     "output_type": "stream",
     "text": [
      "[253, 238, 8, 83, 199, 142, 83, 210, 83, 199, 142, 64, 187, 247, 142, 210, 251, 41, 210, 50, 247, 236, 64, 83, 210, 252, 155, 64, 111, 55, 224, 83, 210, 52, 41, 15, 247, 224, 114, 210, 185, 83, 224, 142, 50, 83, 243, 187, 224, 179, 189, 187, 243, 188, 64, 247, 181, 50, 83, 41, 64, 252, 210, 251, 83, 210, 3, 187, 41, 64, 247, 189, 83, 210, 52, 83, 188, 50, 187, 224, 189, 85, 253, 210, 9, 181, 41, 64, 189, 83, 116, 210, 50, 83, 210, 15, 64, 181, 86, 83, 142, 210, 59, 41, 142, 83, 224, 188, 83, 64, 185, 210, 183, 142, 142, 15, 111, 116, 176, 176, 157, 157, 157, 18, 185, 41, 142, 83, 224, 188, 83, 64, 185, 18, 181, 64, 185, 176, 83, 188, 181, 181, 29, 111, 176, 152, 168, 226, 254, 206, 85, 85, 155, 64, 111, 55, 224, 83, 210, 52, 41, 15, 247, 224, 210, 15, 187, 64, 243, 247, 210, 224, 181, 41, 111, 126, 210, 50, 184, 247, 224, 111, 187, 247, 111, 247, 111, 111, 187, 188, 50, 83, 210, 189, 187, 243, 188, 64, 247, 181, 50, 83, 41, 64, 210, 251, 181, 224, 142, 210, 181, 224, 210, 64, 187, 189, 181, 224, 142, 187, 247, 142, 85, 50, 83, 111, 210, 15, 64, 181, 41, 83, 111, 111, 83, 111, 210, 251, 187, 224, 111, 210, 142, 181, 41, 111, 210, 50, 83, 111, 210, 86, 181, 41, 64, 224, 187, 41, 199, 210, 251, 83, 15, 41, 247, 111, 210, 251, 83, 111, 210, 243, 181, 247, 111, 126, 210, 50, 184, 119, 224, 247, 185, 243, 187, 142, 247, 63, 41, 83, 85, 15, 83, 64, 111, 181, 224, 224, 187, 185, 83, 210, 187, 236, 83, 189, 210, 63, 41, 247, 210, 50, 83, 210, 236, 247, 83, 41, 199, 210, 59, 187, 224, 247, 243, 187, 64, 251, 114, 210, 224, 181, 142, 64, 83, 210, 243, 83, 247, 50, 50, 83, 41, 64, 210, 15, 181, 50, 247, 189, 247, 83, 64, 114, 210, 187, 236, 187, 247, 142, 85, 83, 224, 185, 187, 185, 119, 210, 189, 83, 210, 251, 41, 83, 50, 210, 156, 210, 243, 181, 64, 142, 210, 251, 181, 224, 142, 210, 50, 83, 111, 210, 15, 119, 64, 247, 15, 119, 142, 247, 83, 111, 210, 111, 83, 210, 251, 119, 64, 181, 41, 50, 187, 247, 83, 224, 142, 210, 251, 83, 210, 249, 187, 57, 181, 224, 210, 111, 247, 85, 15, 247, 142, 142, 181, 64, 83, 111, 63, 41, 83, 126, 210, 155, 64, 111, 55, 224, 83, 210, 52, 41, 15, 247, 224, 114, 210, 50, 83, 210, 249, 187, 224, 142, 187, 247, 111, 247, 111, 142, 83, 210, 185, 83, 224, 142, 50, 83, 243, 187, 224, 210, 63, 41, 247, 210, 224, 184, 181, 15, 55, 64, 83, 210, 63, 41, 83, 85, 251, 187, 224, 111, 210, 50, 83, 111, 210, 189, 183, 60, 142, 83, 187, 41, 199, 210, 83, 142, 210, 50, 83, 111, 210, 111, 187, 50, 181, 224, 111, 114, 210, 83, 142, 210, 63, 41, 247, 114, 210, 41, 224, 83, 210, 224, 41, 247, 142, 114, 210, 181, 35, 210, 247, 50, 210, 187, 236, 187, 247, 142, 210, 15, 119, 224, 119, 142, 64, 119, 85, 189, 183, 83, 38, 210, 50, 83, 210, 188, 187, 64, 181, 224, 210, 9, 189, 183, 181, 64, 243, 187, 224, 224, 114, 210, 83, 224, 210, 119, 142, 187, 247, 142, 210, 15, 187, 64, 142, 247, 210, 50, 83, 111, 210, 243, 187, 247, 224, 111, 210, 236, 247, 251, 83, 111, 210, 83, 142, 210, 187, 236, 187, 247, 142, 85, 50, 187, 247, 111, 111, 119, 210, 111, 187, 210, 189, 187, 64, 142, 83, 114, 210, 181, 64, 224, 119, 83, 210, 251, 83, 210, 189, 83, 142, 142, 83, 210, 249, 181, 64, 243, 41, 50, 83, 116, 210, 147, 155, 64, 111, 55, 224, 83, 210, 52, 41, 15, 247, 224, 114, 85, 185, 83, 224, 142, 50, 83, 243, 187, 224, 179, 189, 187, 243, 188, 64, 247, 181, 50, 83, 41, 64, 114, 210, 64, 83, 236, 247, 83, 224, 251, 64, 187, 210, 63, 41, 187, 224, 251, 210, 50, 83, 111, 210, 243, 83, 41, 188, 50, 83, 111, 210, 111, 83, 64, 181, 224, 142, 85, 187, 41, 142, 183, 83, 224, 142, 247, 63, 41, 83, 111, 7, 18, 210, 155, 64, 111, 55, 224, 83, 210, 52, 41, 15, 247, 224, 114, 210, 50, 184, 183, 181, 243, 243, 83, 210, 187, 41, 199, 210, 243, 247, 50, 50, 83, 210, 251, 119, 185, 41, 247, 111, 83, 243, 83, 224, 142, 111, 116, 210, 142, 181, 41, 64, 210, 156, 85, 142, 181, 41, 64, 210, 189, 183, 187, 41, 249, 249, 83, 41, 64, 114, 210, 142, 119, 224, 181, 64, 114, 210, 188, 181, 181, 29, 243, 187, 29, 83, 64, 114, 210, 249, 247, 50, 111, 210, 251, 83, 210, 249, 187, 243, 247, 50, 50, 83, 114, 210, 187, 251, 181, 50, 83, 111, 189, 83, 224, 142, 114, 85, 236, 247, 83, 247, 50, 50, 187, 64, 251, 114, 210, 189, 181, 243, 243, 247, 111, 179, 236, 181, 203, 187, 185, 83, 41, 64, 210, 243, 187, 64, 111, 83, 247, 50, 50, 187, 247, 111, 114, 210, 243, 119, 251, 83, 189, 247, 224, 210, 64, 41, 111, 111, 83, 114, 210, 142, 181, 64, 83, 64, 181, 85, 83, 111, 15, 187, 185, 224, 181, 50, 126]\n",
      "# Texte extrait du livre \"Arsène Lupin, gentleman-cambrioleur\" de Maurice Leblanc\n",
      "# Source: le projet Gutenberg https://www.gutenberg.org/ebooks/32854\n",
      "\n",
      "Arsène Lupin parmi nous! l'insaisissable cambrioleur dont on racontait\n",
      "les prouesses dans tous les journaux depuis des mois! l'énigmatique\n",
      "personnage avec qui le vieux Ganimard, notre meilleur policier, avait\n",
      "engagé ce duel à mort dont les péripéties se déroulaient de façon si\n",
      "pittoresque! Arsène Lupin, le fantaisiste gentleman qui n'opère que\n",
      "dans les châteaux et les salons, et qui, une nuit, où il avait pénétré\n",
      "chez le baron Schormann, en était parti les mains vides et avait\n",
      "laissé sa carte, ornée de cette formule: «Arsène Lupin,\n",
      "gentleman-cambrioleur, reviendra quand les meubles seront\n",
      "authentiques». Arsène Lupin, l'homme aux mille déguisements: tour à\n",
      "tour chauffeur, ténor, bookmaker, fils de famille, adolescent,\n",
      "vieillard, commis-voyageur marseillais, médecin russe, torero\n",
      "espagnol!\n"
     ]
    }
   ],
   "source": [
    "# Chiffrer comme les SDES (chiffré 2 fois avec deux clés différentes) une liste de 8 bits\n",
    "def chiffrer(k1,k2,msg):\n",
    "    cipher = []\n",
    "    for b in msg:\n",
    "        cipher.append(encrypt(k1,encrypt(k2,b)))\n",
    "    return cipher\n",
    "\n",
    "# Déchiffrer comme les SDES (déchiffré 2 fois avec deux clés différentes)\n",
    "def dechiffrer(k1,k2,cipher):\n",
    "    msg = []\n",
    "    for b in cipher:\n",
    "        msg.append(decrypt(k2,decrypt(k1,b)))\n",
    "    return msg\n",
    "\n",
    "# Transforme un message en une liste de 8 bits\n",
    "def msg_to_list(msg):\n",
    "    return [ord(c) for c in msg]\n",
    "\n",
    "# Transforme une liste de 8 bits en un message\n",
    "def list_to_msg(msg):\n",
    "    return \"\".join([chr(c) for c in msg])\n",
    "\n",
    "with open(\"arsene_lupin_extrait.txt\", \"r\") as f:\n",
    "    msg = f.read()\n",
    "    cipher = chiffrer(0b110100001,0b011011010, msg_to_list(msg))\n",
    "    print(cipher)\n",
    "    msg = list_to_msg(dechiffrer(0b110100001,0b011011010, cipher))\n",
    "    print(msg)\n"
   ]
  },
  {
   "cell_type": "markdown",
   "metadata": {},
   "source": [
    "Code du cassage_brutal"
   ]
  },
  {
   "cell_type": "code",
   "execution_count": 37,
   "metadata": {},
   "outputs": [
    {
     "name": "stdout",
     "output_type": "stream",
     "text": [
      "((500, 1000), 513001)\n",
      "22 17\n"
     ]
    }
   ],
   "source": [
    "def cassage_brutal(message_clair, message_chiffre):\n",
    "    nbit = 0\n",
    "    for k1 in range(0, 1024):\n",
    "        for k2 in range(0, 1024):\n",
    "            nbit += 1\n",
    "            if chiffrer(k1, k2, message_clair) == message_chiffre:\n",
    "                return (k1, k2), nbit\n",
    "    return None\n",
    "\n",
    "# print(cassage_brutal(msg_to_list(\"Bonjour\"), chiffrer(0b110100001,0b011011010,msg_to_list(\"Bonjour\"))))\n",
    "# print(0b110100001,0b011011010)\n",
    "\n",
    "# with open(\"arsene_lupin_extrait.txt\", \"r\") as f:\n",
    "#     msg = f.read()\n",
    "msg = \"Bonjour Chef\"\n",
    "cipher = chiffrer(500, 1000, msg_to_list(msg))\n",
    "print(cassage_brutal(msg_to_list(msg), cipher))\n",
    "print(22, 17)"
   ]
  },
  {
   "cell_type": "markdown",
   "metadata": {},
   "source": [
    "Code du cassage_astucieux"
   ]
  },
  {
   "cell_type": "code",
   "execution_count": 36,
   "metadata": {},
   "outputs": [
    {
     "name": "stdout",
     "output_type": "stream",
     "text": [
      "((500, 1000), 387751)\n",
      "22 17\n"
     ]
    }
   ],
   "source": [
    "def cassage_astucieux(message_clair, message_chiffre):\n",
    "    nbit = 0\n",
    "            \n",
    "    for k1 in range(0, 1024):\n",
    "        for k2 in range(k1, 1024):\n",
    "            nbit += 1\n",
    "            if dechiffrer(k2, k1, message_chiffre[:11]) == message_clair[:11]:\n",
    "                return (k2, k1), nbit\n",
    "            if dechiffrer(k1, k2, message_chiffre[:11]) == message_clair[:11]:\n",
    "                return (k1, k2), nbit\n",
    "\n",
    "    return None\n",
    "\n",
    "# decrypted_message = dechiffrer(k1, k2, message_chiffre)\n",
    "            \n",
    "# # Ne prendre en compte que les clés qui permettent d'obtenir les trois premiers caractères\n",
    "# if decrypted_message[:3] == message_clair[:3]:\n",
    "\n",
    "msg = \"Bonjour Chef\"\n",
    "cipher = chiffrer(500, 1000, msg_to_list(msg))\n",
    "print(cassage_astucieux(msg_to_list(msg), cipher))\n",
    "print(22, 17)"
   ]
  },
  {
   "cell_type": "markdown",
   "metadata": {},
   "source": [
    "Test sur tout le message Arsène Lupin\n"
   ]
  },
  {
   "cell_type": "code",
   "execution_count": null,
   "metadata": {},
   "outputs": [],
   "source": [
    "msg = \"\"\"\n",
    "# Texte extrait du livre \"Arsène Lupin, gentleman-cambrioleur\" de Maurice Leblanc\n",
    "# Source: le projet Gutenberg https://www.gutenberg.org/ebooks/32854\n",
    "\n",
    "Arsène Lupin parmi nous! l'insaisissable cambrioleur dont on racontait\n",
    "les prouesses dans tous les journaux depuis des mois! l'énigmatique\n",
    "personnage avec qui le vieux Ganimard, notre meilleur policier, avait\n",
    "engagé ce duel à mort dont les péripéties se déroulaient de façon si\n",
    "pittoresque! Arsène Lupin, le fantaisiste gentleman qui n'opère que\n",
    "dans les châteaux et les salons, et qui, une nuit, où il avait pénétré\n",
    "chez le baron Schormann, en était parti les mains vides et avait\n",
    "laissé sa carte, ornée de cette formule: «Arsène Lupin,\n",
    "gentleman-cambrioleur, reviendra quand les meubles seront\n",
    "authentiques». Arsène Lupin, l'homme aux mille déguisements: tour à\n",
    "tour chauffeur, ténor, bookmaker, fils de famille, adolescent,\n",
    "vieillard, commis-voyageur marseillais, médecin russe, torero\n",
    "espagnol!\n",
    "\"\"\"\n",
    "\n",
    "cipher = chiffrer(22, 17, msg_to_list(msg))\n",
    "print(cassage_astucieux(msg_to_list(msg), cipher))"
   ]
  },
  {
   "cell_type": "markdown",
   "metadata": {},
   "source": [
    "## Partie 2"
   ]
  },
  {
   "cell_type": "code",
   "execution_count": 14,
   "metadata": {},
   "outputs": [
    {
     "name": "stdout",
     "output_type": "stream",
     "text": [
      "b'\\x8e\\x94\\xea\\xb2\\xb0W\\xe2\\xc5\\xb8\\xb6\\x1f\\xa3#r\\xea\\xe7'\n",
      "Bonjour chef\n"
     ]
    }
   ],
   "source": [
    "from cryptography.hazmat.primitives.ciphers import Cipher, algorithms, modes\n",
    "from cryptography.hazmat.backends import default_backend\n",
    "from cryptography.hazmat.primitives import hashes\n",
    "from cryptography.hazmat.primitives.kdf.pbkdf2 import PBKDF2HMAC\n",
    "from cryptography.hazmat.primitives import padding\n",
    "import os\n",
    "\n",
    "# Générer une clé AES-256 bits de manière sécurisée\n",
    "def generate_aes_key():\n",
    "    password = b'your_secret_password'  # Remplacez par un mot de passe sécurisé\n",
    "    salt = os.urandom(16)  # Génère une valeur aléatoire pour le sel\n",
    "    kdf = PBKDF2HMAC(\n",
    "        algorithm=hashes.SHA256(),\n",
    "        length=32,  # 256 bits\n",
    "        salt=salt,\n",
    "        iterations=100000,  # Choisissez un nombre approprié d'itérations\n",
    "        backend=default_backend()\n",
    "    )\n",
    "    key = kdf.derive(password)\n",
    "    return key\n",
    "\n",
    "\n",
    "def encrypt_aes(msg, key):\n",
    "    encryptor = Cipher(algorithms.AES(key), modes.ECB(), backend=default_backend()).encryptor()\n",
    "    if isinstance(msg, str):\n",
    "        msg = msg.encode('utf-8')  # Convertir la chaîne en octets\n",
    "\n",
    "    # Ajouter du bourrage (padding)\n",
    "    padder = padding.PKCS7(128).padder()\n",
    "    padded_msg = padder.update(msg) + padder.finalize()\n",
    "\n",
    "    return encryptor.update(padded_msg) + encryptor.finalize()\n",
    "\n",
    "# Déchiffrer un message avec AES-256 bits\n",
    "def decrypt_aes(msg, key):\n",
    "    decryptor = Cipher(algorithms.AES(key), modes.ECB(), backend=default_backend()).decryptor()\n",
    "    decrypted_msg = decryptor.update(msg) + decryptor.finalize()\n",
    "\n",
    "    # Retirer le bourrage\n",
    "    unpadder = padding.PKCS7(128).unpadder()\n",
    "    unpadded_msg = unpadder.update(decrypted_msg) + unpadder.finalize()\n",
    "\n",
    "    return unpadded_msg.decode('utf-8')\n",
    "\n",
    "# Utiliser les fonctions\n",
    "key_aes = generate_aes_key()\n",
    "cipher_text = encrypt_aes(\"Bonjour chef\", key_aes)\n",
    "print(cipher_text)\n",
    "\n",
    "plain_text = decrypt_aes(cipher_text, key_aes)\n",
    "print(plain_text)\n"
   ]
  },
  {
   "cell_type": "code",
   "execution_count": 26,
   "metadata": {},
   "outputs": [
    {
     "name": "stdout",
     "output_type": "stream",
     "text": [
      "Temps d'exécution du chiffrage AES: 0.17070770263671875\n",
      "Temps d'exécution du déchiffrage AES: 0.3566741943359375\n",
      "Temps d'exécution du chiffrage SDES: 0.6959438323974609\n",
      "Temps d'exécution du déchiffrage SDES: 0.9150505065917969\n"
     ]
    }
   ],
   "source": [
    "import time\n",
    "\n",
    "message = \"Bonjour chef\"\n",
    "cle = generate_aes_key()\n",
    "\n",
    "# Mesurer le temps d'exécution du chiffrement AES\n",
    "start_time = time.time()\n",
    "cipher_aes = encrypt_aes(message, cle)\n",
    "encryption_time_aes = time.time() - start_time\n",
    "print(\"Temps d'exécution du chiffrage AES:\", encryption_time_aes*1000)\n",
    "\n",
    "# Mesurer le temps d'exécution du déchiffrement AES\n",
    "start_time = time.time()\n",
    "decipher_aes = decrypt_aes(cipher_aes, cle)\n",
    "decryption_time_aes = time.time() - start_time\n",
    "print(\"Temps d'exécution du déchiffrage AES:\", decryption_time_aes*1000)\n",
    "\n",
    "# Mesurer le temps d'exécution du chiffrement SDES\n",
    "start_time = time.time()\n",
    "cipher_sdes = chiffrer(0b110100001, 0b011011010, msg_to_list(message))\n",
    "encryption_time_sdes = time.time() - start_time\n",
    "print(\"Temps d'exécution du chiffrage SDES:\", encryption_time_sdes*1000)\n",
    "\n",
    "# Mesurer le temps d'exécution du déchiffrement SDES\n",
    "start_time = time.time()\n",
    "decipher_sdes = dechiffrer(0b110100001, 0b011011010, cipher_sdes)\n",
    "decryption_time_sdes = time.time() - start_time\n",
    "print(\"Temps d'exécution du déchiffrage SDES:\", decryption_time_sdes*1000)\n"
   ]
  },
  {
   "cell_type": "code",
   "execution_count": 1,
   "metadata": {},
   "outputs": [
    {
     "ename": "SyntaxError",
     "evalue": "leading zeros in decimal integer literals are not permitted; use an 0o prefix for octal integers (1196515409.py, line 4)",
     "output_type": "error",
     "traceback": [
      "\u001b[0;36m  File \u001b[0;32m\"/tmp/ipykernel_43416/1196515409.py\"\u001b[0;36m, line \u001b[0;32m4\u001b[0m\n\u001b[0;31m    en la transformant un bits 0000 0000 seule le dernier est rempléce 0000 0001\u001b[0m\n\u001b[0m                                                                             ^\u001b[0m\n\u001b[0;31mSyntaxError\u001b[0m\u001b[0;31m:\u001b[0m leading zeros in decimal integer literals are not permitted; use an 0o prefix for octal integers\n"
     ]
    }
   ],
   "source": [
    "Partie image\n",
    "\n",
    "dans la partie changer il y a un partie de différent dans cette partie il y a des pixel qui change et qui on comme valeur entre 0-256\n",
    "en la transformant un bits 0000 0000 seule le dernier est rempléce 0000 0001 \n",
    "en additionnant bout a bout on obtiens la clé.\n",
    "\n",
    "! il faut analyser les dernier bits de chaque pixel.\n",
    "\n",
    "clé = suite de bits insérer dans l'image"
   ]
  },
  {
   "cell_type": "code",
   "execution_count": 9,
   "metadata": {},
   "outputs": [
    {
     "name": "stdout",
     "output_type": "stream",
     "text": [
      "169.43496337890625\n",
      "169.9302001953125\n"
     ]
    }
   ],
   "source": [
    "from PIL import Image\n",
    "\n",
    "def average_pixel_value(image_path):\n",
    "    image = Image.open(image_path)\n",
    "    pixels = list(image.getdata())\n",
    "    average_value = sum(pixels) / len(pixels)\n",
    "    return average_value\n",
    "\n",
    "print(average_pixel_value(\"rossignol2.bmp\"))\n",
    "print(average_pixel_value(\"rossignol1.bmp\"))"
   ]
  },
  {
   "cell_type": "code",
   "execution_count": 26,
   "metadata": {},
   "outputs": [
    {
     "name": "stdout",
     "output_type": "stream",
     "text": [
      "Clé extraite : 0001111100000111100010000100001011001011010010001100100110001001\n"
     ]
    }
   ],
   "source": [
    "from PIL import Image\n",
    "\n",
    "def comparer_images(image2_path):\n",
    "    # Ouvrir les deux images\n",
    "    img2 = Image.open(image2_path)\n",
    "\n",
    "    # Créer une chaîne binaire pour représenter les différences de pixels\n",
    "    differences = \"\"\n",
    "\n",
    "    # Parcourir tous les pixels des deux images\n",
    "    for x in range(64):\n",
    "        # Récupérer les valeurs de pixel correspondantes dans chaque image\n",
    "        pixel2 = img2.getpixel((0, x))\n",
    "\n",
    "        # Comparer les pixels et ajouter 1 ou 0 à la chaîne binaire\n",
    "        differences += str(pixel2%2)\n",
    "\n",
    "\n",
    "    # Retourner la chaîne binaire représentant les différences\n",
    "    return differences\n",
    "\n",
    "# Exemple d'utilisation\n",
    "image1_path = \"rossignol1.bmp\"\n",
    "\n",
    "# Exemple d'utilisation de la fonction avec deux images spécifiques\n",
    "resultat = comparer_images(image1_path)\n",
    "\n",
    "\n",
    "print(\"Clé extraite :\", resultat)"
   ]
  },
  {
   "cell_type": "markdown",
   "metadata": {},
   "source": [
    "## Partie3"
   ]
  },
  {
   "cell_type": "code",
   "execution_count": null,
   "metadata": {},
   "outputs": [],
   "source": []
  }
 ],
 "metadata": {
  "kernelspec": {
   "display_name": "Python 3",
   "language": "python",
   "name": "python3"
  },
  "language_info": {
   "codemirror_mode": {
    "name": "ipython",
    "version": 3
   },
   "file_extension": ".py",
   "mimetype": "text/x-python",
   "name": "python",
   "nbconvert_exporter": "python",
   "pygments_lexer": "ipython3",
   "version": "3.10.12"
  }
 },
 "nbformat": 4,
 "nbformat_minor": 2
}
